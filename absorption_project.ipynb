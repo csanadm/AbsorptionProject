{
 "cells": [
  {
   "cell_type": "markdown",
   "id": "1b0d1b4f-6fc5-47c4-8e44-7c7576252a89",
   "metadata": {},
   "source": [
    "# Absorption project"
   ]
  },
  {
   "cell_type": "markdown",
   "id": "bfdd09b5-1658-4d7c-810e-24710014fb39",
   "metadata": {},
   "source": [
    "## Basic parameters, data and python libraries"
   ]
  },
  {
   "cell_type": "code",
   "execution_count": 1,
   "id": "f1a6ba9b-17c1-457d-8d19-940c661ba77e",
   "metadata": {},
   "outputs": [],
   "source": [
    "import math\n",
    "import matplotlib.pyplot as plt\n",
    "import numpy as np"
   ]
  },
  {
   "cell_type": "code",
   "execution_count": 2,
   "id": "69dfbe06-8f2a-47a3-b9db-83e2ebb3d4a6",
   "metadata": {},
   "outputs": [],
   "source": [
    "T0 = 293.15;     #temperature scale for the calibrated functions\n",
    "Patm = 101325.0; #atmospheric pressure\n",
    "T01 = 273.16;    #triple point temperature\n",
    "KelvinConversion = 273.15;"
   ]
  },
  {
   "cell_type": "code",
   "execution_count": 3,
   "id": "d231f5e7-fda4-4127-9a44-2aaf4fdad54f",
   "metadata": {},
   "outputs": [],
   "source": [
    "other_materials_ai = np.loadtxt(\"other_materials_ai.txt\",dtype=float)"
   ]
  },
  {
   "cell_type": "code",
   "execution_count": 4,
   "id": "3e499cd0-dea5-4c13-a328-0a8d16e53d66",
   "metadata": {},
   "outputs": [],
   "source": [
    "with open(\"other_materials_names.txt\", \"r\") as textfile:\n",
    "    other_materials_names = textfile.readlines()\n",
    "textfile.close()\n",
    "iline=0;\n",
    "for line in other_materials_names:\n",
    "    other_materials_names[iline] = other_materials_names[iline].replace('\\n', '')\n",
    "    iline += 1;"
   ]
  },
  {
   "cell_type": "markdown",
   "id": "6369a512-31b4-4d55-913f-3482f8746277",
   "metadata": {},
   "source": [
    "## Air absorption functions, original"
   ]
  },
  {
   "cell_type": "code",
   "execution_count": 5,
   "id": "9238cf12-026e-49c9-af3a-fe0e690b9d38",
   "metadata": {},
   "outputs": [],
   "source": [
    "#classical absorption, T in k\n",
    "def classical(TKelvin, f):\n",
    "  return 868.6*1.84e-11*math.pow(TKelvin/T0,1./2.)*f*f;"
   ]
  },
  {
   "cell_type": "code",
   "execution_count": 6,
   "id": "3ddca418-dbbf-4e4a-92cd-50979010e78a",
   "metadata": {},
   "outputs": [],
   "source": [
    "#Nitrogen relaxation frequency\n",
    "def FrN(TKelvin, h, P):\n",
    "  return P/Patm*(9 + 280*h*math.exp(-4.17*(math.pow(TKelvin/T0,-1./3.) - 1)))*math.pow(TKelvin/T0,-1./2.);"
   ]
  },
  {
   "cell_type": "code",
   "execution_count": 7,
   "id": "64b654bb-1a43-4e31-8a18-985d0b3ed8b8",
   "metadata": {},
   "outputs": [],
   "source": [
    "#Oxygen relaxation frequency\n",
    "def FrO(h, P):\n",
    "  return P/Patm*(24 + 4.04e4*h*(0.02+h)/(0.391+h));"
   ]
  },
  {
   "cell_type": "code",
   "execution_count": 8,
   "id": "07154545-c39b-4ce0-9b99-b622c796222f",
   "metadata": {},
   "outputs": [],
   "source": [
    "#Water vapour saturation pressure\n",
    "def psat(TKelvin):\n",
    "  return Patm*math.pow(10,-6.8346*math.pow(T01/TKelvin,1.261) + 4.6151);"
   ]
  },
  {
   "cell_type": "code",
   "execution_count": 9,
   "id": "2e1a6d66-7eac-42e6-856e-295fd6f780f8",
   "metadata": {},
   "outputs": [],
   "source": [
    "#Absolute humidity\n",
    "def habs(hrel, TKelvin, P):\n",
    "  return hrel*psat(TKelvin)/P;"
   ]
  },
  {
   "cell_type": "code",
   "execution_count": 10,
   "id": "f1c00c9f-2de9-446a-8a0c-a2b281f5d9b7",
   "metadata": {},
   "outputs": [],
   "source": [
    "#Nitrogen absorption\n",
    "def Nit(TKelvin, h, P, f):\n",
    "  frn = FrN(TKelvin,h,P);\n",
    "  return  868.6*0.1068*math.exp(-3352./TKelvin)*math.pow(TKelvin/T0,-5./2.)*frn * f*f/(frn*frn + f*f);"
   ]
  },
  {
   "cell_type": "code",
   "execution_count": 11,
   "id": "9cf9be39-bec5-4507-9975-c6128325a02a",
   "metadata": {},
   "outputs": [],
   "source": [
    "#Oxygen absorption\n",
    "def Oxyg(TKelvin, h, P, f):\n",
    "  fro = FrO(h,P);\n",
    "  return  868.6*0.01275*math.exp(-2239.1/TKelvin)*math.pow(TKelvin/T0,-5./2.)*fro * f*f/(fro*fro+f*f);"
   ]
  },
  {
   "cell_type": "code",
   "execution_count": 12,
   "id": "67d70410-9df5-4cc1-b8c8-527c9c26243f",
   "metadata": {},
   "outputs": [],
   "source": [
    "#Total air absorption, this function is not needed actually\n",
    "def AlphaAir(TKelvin, h, P, f):\n",
    "  return classical(TKelvin,f) + Nit(TKelvin,h,P,f) + Oxyg(TKelvin,h,P,f);"
   ]
  },
  {
   "cell_type": "markdown",
   "id": "04223c91-f36c-4217-a215-eb1b32cc285a",
   "metadata": {},
   "source": [
    "## Seawater absorption functions, original"
   ]
  },
  {
   "cell_type": "code",
   "execution_count": 13,
   "id": "7266cae1-ade0-454e-b021-acf61ecfb2fa",
   "metadata": {},
   "outputs": [],
   "source": [
    "#Sound speed in water\n",
    "def csound(TCelsius, Salinity, Depth, pH):\n",
    "  return 1412 + 3.21*TCelsius + 1.19*Salinity + 0.0167*Depth;"
   ]
  },
  {
   "cell_type": "code",
   "execution_count": 14,
   "id": "1ef9f877-1b3b-4251-8849-9b9a9d51ef0a",
   "metadata": {},
   "outputs": [],
   "source": [
    "#Water absorption frequency scale, to make formulas simpler, frequencies in kHz here\n",
    "def FrW(TCelsius, Salinity, Depth, pH):\n",
    "  return 1/(1 - 3.83e-5*Depth + 4.9e-10*Depth*Depth);"
   ]
  },
  {
   "cell_type": "code",
   "execution_count": 15,
   "id": "bfdbec31-acc1-405e-ba7c-39dcdbba9820",
   "metadata": {},
   "outputs": [],
   "source": [
    "#Boric acid relaxation frequency, frequencies in kHz here\n",
    "def FrB(TCelsius, Salinity, Depth, pH):\n",
    "  TKelvin = TCelsius + KelvinConversion;\n",
    "  return 2.8*math.sqrt(Salinity/35)*pow(10,4-1245/TKelvin);"
   ]
  },
  {
   "cell_type": "code",
   "execution_count": 16,
   "id": "dbab8fb5-eb49-40dd-b4cf-cf14a8c4d052",
   "metadata": {},
   "outputs": [],
   "source": [
    "#Magnesium sulphate relaxation frequency, frequencies in kHz here\n",
    "def FrM(TCelsius, Salinity, Depth, pH):\n",
    "  TKelvin = TCelsius + KelvinConversion;\n",
    "  return 8.17*math.pow(10,8-1990/TKelvin)/(1 + 0.0018*(Salinity - 35));"
   ]
  },
  {
   "cell_type": "code",
   "execution_count": 17,
   "id": "9f3cc3a7-2adf-4ead-9f90-8aa047527669",
   "metadata": {},
   "outputs": [],
   "source": [
    "#Classical absorption in water, frequencies in kHz here\n",
    "def Water(TCelsius, Salinity, Depth, pH, f):\n",
    "  frw = FrW(TCelsius, Salinity, Depth, pH);\n",
    "  cw = -1;\n",
    "  if(TCelsius<=20): cw = 4.937e-4 - 2.590e-5*TCelsius + 9.11e-7*TCelsius*TCelsius - 1.50e-8*TCelsius*TCelsius*TCelsius;\n",
    "  else:             cw = 3.964e-4 - 1.146e-5*TCelsius + 1.45e-7*TCelsius*TCelsius - 6.50e-10*TCelsius*TCelsius*TCelsius;\n",
    "  return cw*f*f/(frw*frw);"
   ]
  },
  {
   "cell_type": "code",
   "execution_count": 18,
   "id": "0933582b-a5cb-4655-8b7a-bc2f4adffec6",
   "metadata": {},
   "outputs": [],
   "source": [
    "#Magnesium sulphate absorption, frequencies in kHz here\n",
    "def Magsulf(TCelsius, Salinity, Depth, pH, f):\n",
    "  frm = FrM(TCelsius, Salinity, Depth, pH);\n",
    "  c = csound(TCelsius, Salinity, Depth, pH);\n",
    "  return 21.44*Salinity/c*(1+0.025*TCelsius)*(1-1.37e-4*Depth+ 6.2e-9*Depth*Depth)*frm*f*f/(frm*frm+f*f);"
   ]
  },
  {
   "cell_type": "code",
   "execution_count": 19,
   "id": "692ce3bc-e4f8-4f5b-b382-e2494c10c15a",
   "metadata": {},
   "outputs": [],
   "source": [
    "#Boric acid absorption, frequencies in kHz here\n",
    "def Boric(TCelsius, Salinity, Depth, pH, f):\n",
    "  frb = FrB(TCelsius, Salinity, Depth, pH);\n",
    "  c = csound(TCelsius, Salinity, Depth, pH);\n",
    "  return (8.86/c)*math.pow(10,0.78*pH-5)*frb*f*f/(frb*frb+f*f);"
   ]
  },
  {
   "cell_type": "code",
   "execution_count": 20,
   "id": "032f9736-c3d7-4fc0-a255-bf1fdaac3faf",
   "metadata": {},
   "outputs": [],
   "source": [
    "#Total water absorption, frequencies in kHz here\n",
    "def AlphaWater(TCelsius, Salinity, Depth, pH, f):\n",
    "  return Water(TCelsius,Salinity,Depth,pH,f) + Magsulf(TCelsius,Salinity,Depth,pH,f) + Boric(TCelsius,Salinity,Depth,pH,f);"
   ]
  },
  {
   "cell_type": "markdown",
   "id": "28a94d08-85a4-4818-bb04-fb8aa480ea25",
   "metadata": {},
   "source": [
    "## Setup formula parameters for water and air"
   ]
  },
  {
   "cell_type": "code",
   "execution_count": 21,
   "id": "8cbccdd7-bfeb-4425-b9d2-b77d2ffa4c2d",
   "metadata": {},
   "outputs": [],
   "source": [
    "#Global air parameters\n",
    "flim1a=-1; flim2a=-1; flim3a=-1; flim4a=-1;\n",
    "n1a=-1; n2a=-1; n3a=-1; n4a=-1; n5a=-1;\n",
    "a1a=-1; a2a=-1; a3a=-1; a4a=-1; a5a=-1\n",
    "air_setup = False;\n",
    "\n",
    "#Global water parameters\n",
    "flim1w=-1; flim2w=-1; flim3w=-1; flim4w=-1;\n",
    "n1w=-1; n2w=-1; n3w=-1; n4w=-1; n5w=-1;\n",
    "a1w=-1; a2w=-1; a3w=-1; a4w=-1; a5w=-1\n",
    "water_setup = False;"
   ]
  },
  {
   "cell_type": "code",
   "execution_count": 22,
   "id": "54bc3ddb-60e0-4f16-8c76-4a776247829e",
   "metadata": {},
   "outputs": [],
   "source": [
    "def setup_parameters_air(TKelvin, Humidity, Pressure):\n",
    "  global flim1a, flim2a, flim3a, flim4a;\n",
    "  global n1a, n2a, n3a, n4a, n5a;\n",
    "  global a1a, a2a, a3a, a4a, a5a;\n",
    "  global air_setup;\n",
    "    \n",
    "  PPascal = Pressure * Patm;\n",
    "  TCelsius = TKelvin - T01;\n",
    "  hvalue = habs(Humidity,TKelvin,PPascal);\n",
    "  \n",
    "  #Basic parameters for the first estimate\n",
    "  fN = FrN(TKelvin,hvalue,PPascal);\n",
    "  fO = FrO(hvalue,PPascal);\n",
    "  fC = 1; #fC does not appear in the formulas, but can be understood as cC -> cC/fC^2, for symmetry reasons\n",
    "  \n",
    "  cN = 2*Nit(TKelvin,hvalue,PPascal,fN);    #cN=2*NFunc(fN), as then f^2/(f^2+fN^2) = 1/2\n",
    "  cO = 2*Oxyg(TKelvin,hvalue,PPascal,fO);   #cO=2*OFunc(fO), as then f^2/(f^2+fO^2) = 1/2\n",
    "  cC = classical(TKelvin,fC); #cO=CFunc(fC), as then f^2=1\n",
    "  \n",
    "  fiNO = math.sqrt(fN*fO)*math.pow(cN/cO+fN*fN/fO/fO,0.25); #f_i for transition from N to O\n",
    "  fiOC = math.sqrt(fO*fC)*math.pow(cO/cC+fO*fO/fC/fC,0.25); #f_i for transition from O to classical\n",
    "  \n",
    "  nNO = 4*cO*fiNO*fiNO / (cO*fiNO*fiNO + cN*fO*fO + cO*fN*fN);\n",
    "  nOC = 4*cC*fiOC*fiOC / (cC*fiOC*fiOC + cO*fC*fC + cC*fO*fO);\n",
    "  \n",
    "  ciNO = AlphaAir(TKelvin,hvalue,PPascal,fiNO);\n",
    "  ciOC = AlphaAir(TKelvin,hvalue,PPascal,fiOC);\n",
    "  \n",
    "  #Estimated parameters  \n",
    "  flim1a = fiNO*math.pow(cN/ciNO*fiNO*fiNO/fN/fN,1.0/(nNO-2));\n",
    "  flim2a = fiNO*math.pow(cO/ciNO*fiNO*fiNO/fO/fO,1.0/(nNO-2));\n",
    "  flim3a = fiOC*math.pow(cO/ciOC*fiOC*fiOC/fO/fO,1.0/(nOC-2));\n",
    "  flim4a = fiOC*math.pow(cC/ciOC*fiOC*fiOC/fC/fC,1.0/(nOC-2));\n",
    "  \n",
    "  n1a = 2;\n",
    "  n2a = nNO;\n",
    "  n3a = 2;\n",
    "  n4a = nOC;\n",
    "  n5a = 2;\n",
    "  \n",
    "  #Corrections based on Excel calculation\n",
    "  flim1a = 0.92306*flim1a - 8.2963E-05*flim1a*flim1a; \n",
    "  flim2a = 0.90727*flim2a - 1.5649E-05*flim2a*flim2a;\n",
    "  if(flim3a<0 or flim3a>20000): flim3a = 22222; #This means that if original flim3 is out of range, then do not use it\n",
    "  else: flim3a = 0.89696*flim3a + 5.3452E-07*flim3a*flim3a;\n",
    "  #flim4a is not relevant for the interval [20 Hz, 20 kHz], so no correction is introduced for it\n",
    "  \n",
    "  n1a = 1.763454532 + 0.003249811*TCelsius + 0.001091377*Humidity;\n",
    "  n2a = 1.6968*n2a - 0.537*n2a*n2a;\n",
    "  n3a = 1.671471966 + 0.000832291*TCelsius + 0.001112712*Humidity;\n",
    "  n4a = 1.7413*n4a;\n",
    "  #n5a is not relevant for the interval [20 Hz, 20 kHz], so no correction is introduced for it\n",
    "  \n",
    "  a1tempa = 1.96005E-05*math.exp(-0.0159*TCelsius)*math.pow(Humidity,-0.4);\n",
    "  a1a = -0.83774*a1tempa + 7.52E+05*a1tempa*a1tempa + 2.35E+10*a1tempa*a1tempa*a1tempa;\n",
    "  \n",
    "  #Formulas for the constant prefactors ensuring continuity\n",
    "  a2a = a1a*math.pow(flim1a,n1a-n2a);\n",
    "  a3a = a2a*math.pow(flim2a,n2a-n3a);\n",
    "  a4a = a3a*math.pow(flim3a,n3a-n4a);\n",
    "  a5a = a4a*math.pow(flim4a,n4a-n5a);\n",
    "  \n",
    "  air_setup = True;\n",
    "  print(\"Air setup done.\");"
   ]
  },
  {
   "cell_type": "code",
   "execution_count": 23,
   "id": "080c2e3a-4c00-497c-af62-4e70393ecc75",
   "metadata": {},
   "outputs": [],
   "source": [
    "#Setup parameters for water formula\n",
    "def setup_parameters_water(TCelsius, Salinity, Depth, pH):\n",
    "  global flim1w, flim2w, flim3w, flim4w;\n",
    "  global n1w, n2w, n3w, n4w, n5w;\n",
    "  global a1w, a2w, a3w, a4w, a5w;\n",
    "  global water_setup;\n",
    "\n",
    "  #Basic parameters for the first estimate\n",
    "  fW = FrW(TCelsius, Salinity, Depth, pH)*1000; #in Hz\n",
    "  fB = FrB(TCelsius, Salinity, Depth, pH)*1000; #in Hz\n",
    "  fM = FrM(TCelsius, Salinity, Depth, pH)*1000; #in Hz\n",
    "\n",
    "  cW =   Water(TCelsius, Salinity, Depth, pH, fW/1000);   #c=  Func(f0), as then f^2/f0^2       = 1\n",
    "  cB = 2*Boric(TCelsius, Salinity, Depth, pH, fB/1000);   #c=2*Func(f0), as then f^2/(f^2+f0^2) = 1/2\n",
    "  cM = 2*Magsulf(TCelsius, Salinity, Depth, pH, fM/1000); #c=2*Func(f0), as then f^2/(f^2+f0^2) = 1/2\n",
    "  \n",
    "  fiBM = math.sqrt(fB*fM)*math.pow(cB/cM+fB*fB/fM/fM,0.25); #f_i for transition from B to M\n",
    "  fiMW = math.sqrt(fM*fW)*math.pow(cM/cW+fM*fM/fW/fW,0.25); #f_i for transition from M to W\n",
    "  \n",
    "  nBM = 4*cM*fiBM*fiBM / (cM*fiBM*fiBM + cB*fM*fM + cM*fB*fB);\n",
    "  nMW = 4*cW*fiMW*fiMW / (cW*fiMW*fiMW + cM*fW*fW + cW*fM*fM);\n",
    "  \n",
    "  ciBM = AlphaWater(TCelsius, Salinity, Depth, pH, fiBM/1000); #Expects f in kHz\n",
    "  ciMW = AlphaWater(TCelsius, Salinity, Depth, pH, fiMW/1000); #Expects f in kHz\n",
    "  \n",
    "  #Estimated parameters  \n",
    "  flim1w = fiBM*pow(cB/ciBM*fiBM*fiBM/fB/fB,1.0/(nBM-2));\n",
    "  flim2w = fiBM*pow(cM/ciBM*fiBM*fiBM/fM/fM,1.0/(nBM-2));\n",
    "  flim3w = fiMW*pow(cM/ciMW*fiMW*fiMW/fM/fM,1.0/(nMW-2)); #Not relevant\n",
    "  #flim4w = fiMW*pow(cW/ciMW*fiMW*fiMW/fW/fW,1.0/(nMW-2)); #Not relevant\n",
    "  \n",
    "  n1w = 2;\n",
    "  n2w = nBM;\n",
    "  n3w = 2;\n",
    "  n4w = nMW;\n",
    "  n5w = 2;\n",
    "\n",
    "  #Estimates based on Excel calculation\n",
    "  flim1w = 0.8282*flim1w + 25.818;\n",
    "  flim2w = 0.7481*flim2w + 647.67;\n",
    "  #flim3w and flim4w are not relevant for the interval [20 Hz, 20 kHz], hence no correction is introduced for them\n",
    "  \n",
    "  n1w = 1.9093 + 0.000968093*TCelsius + 0.000928211*Salinity + 4.61102e-7*TCelsius*Salinity -  9.12418e-7*Depth - 4.34584e-10*Salinity*Depth;\n",
    "  n2w = 0.8716*n2w + 0.2902;\n",
    "  n3w = 1.51232 - 0.000024935*Depth + 0.00661563*Salinity +  0.00219034*TCelsius - 0.000312489*TCelsius*TCelsius;\n",
    "  #n4w and n5w are not relevant for the interval [20 Hz, 20 kHz], hence no correction is introduced for them\n",
    "  \n",
    "  a1w = 0.0000002651151*(1 - 0.040785676*TCelsius+0.0006424371*TCelsius*TCelsius)*(1-0.008556518*Salinity)*(1-0.000012658*Depth);\n",
    "  \n",
    "  #Formulas for the constant prefactors ensuring continuity\n",
    "  a2w = a1w*pow(flim1w,n1w-n2w);\n",
    "  a3w = a2w*pow(flim2w,n2w-n3w);\n",
    "  a4w = a3w*pow(flim3w,n3w-n4w);\n",
    "  a5w = a4w*pow(flim4w,n4w-n5w);\n",
    "  \n",
    "  water_setup = True;\n",
    "  print(\"Water setup done.\");"
   ]
  },
  {
   "cell_type": "markdown",
   "id": "538aa1f8-e327-463b-871a-110d7839370a",
   "metadata": {},
   "source": [
    "## Simplified formulas for water and air"
   ]
  },
  {
   "cell_type": "code",
   "execution_count": 24,
   "id": "85ac3514-ed6c-4809-acb1-b171a61bcdb4",
   "metadata": {},
   "outputs": [],
   "source": [
    "#Air absorption simple formula\n",
    "def air_absorption(TKelvin, Humidity, Pressure, f):\n",
    "  if(not air_setup): setup_parameters_air(TKelvin, Humidity, Pressure);\n",
    "  \n",
    "  if(f<flim1a):   return a1a*math.pow(f,n1a);\n",
    "  elif(f<flim2a): return a2a*math.pow(f,n2a);\n",
    "  elif(f<flim3a): return a3a*math.pow(f,n3a);\n",
    "  elif(f<flim4a): return a4a*math.pow(f,n4a);\n",
    "  else:           return a5a*math.pow(f,n5a);"
   ]
  },
  {
   "cell_type": "code",
   "execution_count": 25,
   "id": "34325107-de63-4dc9-84cf-5a78a50285cf",
   "metadata": {},
   "outputs": [],
   "source": [
    "#Water absorption simple formula\n",
    "def water_absorption(TCelsius, Salinity, Depth, pH, f):\n",
    "  if(not water_setup): setup_parameters_water(TCelsius, Salinity, Depth, pH);\n",
    "\n",
    "  if(f<flim1w):   return a1w*math.pow(f,n1w);\n",
    "  elif(f<flim2w): return a2w*math.pow(f,n2w);\n",
    "  elif(f<flim3w): return a3w*math.pow(f,n3w);\n",
    "  elif(f<flim4w): return a4w*math.pow(f,n4w);\n",
    "  else:           return a5w*math.pow(f,n5w);"
   ]
  },
  {
   "cell_type": "markdown",
   "id": "e206f868-ed89-4962-bb08-5413aff4e98a",
   "metadata": {},
   "source": [
    "## Simplified plots for other, construction related materials"
   ]
  },
  {
   "cell_type": "code",
   "execution_count": 26,
   "id": "c9f94165-abb6-4e20-97bf-5e75fdab47c2",
   "metadata": {},
   "outputs": [],
   "source": [
    "NMAT = len(other_materials_names) #number of materials\n",
    "NAI = 6 #len(other_materials_ai[1]) #number of a_i values for a given material\n",
    "\n",
    "frequenciesOtherMat = [125,250,500,1000,2000,4000]\n",
    "\n",
    "def AlphaOtherMaterial(f,nmat):\n",
    "  if(nmat<0 or nmat>=NMAT): return -9999;\n",
    "\n",
    "  irange = -1;\n",
    "  for ifr in range(NAI):\n",
    "    if(f<frequenciesOtherMat[ifr]):\n",
    "      irange=ifr;\n",
    "      break;\n",
    "  if(irange==-1): irange=NAI; #this means f larger than largest frequency point\n",
    "  if(irange==0): irange=1; #first range is up to 250\n",
    "  if(irange>NAI-2): irange=NAI-1; #/last range is from 2000\n",
    "    \n",
    "  n = math.log(other_materials_ai[nmat][irange]/other_materials_ai[nmat][irange-1]) / math.log(frequenciesOtherMat[irange]/frequenciesOtherMat[irange-1]);\n",
    "  c = other_materials_ai[nmat][irange]/math.pow(frequenciesOtherMat[irange],n);\n",
    "  \n",
    "  return c*math.pow(f,n);"
   ]
  },
  {
   "cell_type": "markdown",
   "id": "1697e6ab-401a-4b44-8519-30d13f99d7b5",
   "metadata": {},
   "source": [
    "## Example plots"
   ]
  },
  {
   "cell_type": "markdown",
   "id": "dd8031e0-0739-4e97-b694-984e8ab8d5d7",
   "metadata": {},
   "source": [
    "### Air absorption"
   ]
  },
  {
   "cell_type": "code",
   "execution_count": 27,
   "id": "3394822c-a457-4b36-aa6a-7517242d544f",
   "metadata": {},
   "outputs": [
    {
     "name": "stdout",
     "output_type": "stream",
     "text": [
      "Air setup done.\n"
     ]
    }
   ],
   "source": [
    "TKelvin=293.15\n",
    "Humidity=30\n",
    "Pressure=1\n",
    "NFR=100;\n",
    "air_setup = False;\n",
    "logftab=np.linspace(math.log(20),math.log(20000),NFR);\n",
    "ftab=np.exp(logftab);\n",
    "asimptab=np.linspace(0,0,NFR);\n",
    "aorigtab=np.linspace(0,0,NFR);\n",
    "for ifr in range(NFR):\n",
    "  fr = ftab[ifr]\n",
    "  asimptab[ifr]=air_absorption(TKelvin, Humidity, Pressure, fr)\n",
    "  PPascal = Pressure*Patm;\n",
    "  aorigtab[ifr]=AlphaAir(TKelvin,habs(Humidity,TKelvin,PPascal),PPascal,fr)"
   ]
  },
  {
   "cell_type": "code",
   "execution_count": 28,
   "id": "1749ef2e-44e3-4531-927b-fd72736a4831",
   "metadata": {},
   "outputs": [
    {
     "data": {
      "image/png": "[encoded data removed]",
      "text/plain": [
       "<Figure size 600x400 with 1 Axes>"
      ]
     },
     "metadata": {},
     "output_type": "display_data"
    }
   ],
   "source": [
    "plt.figure(num=None, figsize=(6, 4), dpi=100, facecolor='w', edgecolor='k')\n",
    "plt.title('Air absorption')\n",
    "plt.xlabel('f [Hz]');\n",
    "plt.ylabel('alpha [dB/100 m]');\n",
    "plt.xlim(20,20000)\n",
    "plt.ylim(0.001,100)\n",
    "plt.loglog(ftab, asimptab, 'r--', label='approximation');\n",
    "plt.loglog(ftab, aorigtab, 'g-', label='original');\n",
    "plt.legend();"
   ]
  },
  {
   "cell_type": "markdown",
   "id": "c43d780a-78b8-4d9d-a2b9-fbcd2f744f34",
   "metadata": {},
   "source": [
    "### Water absorption"
   ]
  },
  {
   "cell_type": "code",
   "execution_count": 29,
   "id": "5318e74b-ec9b-47d0-a3f4-02c1badc1099",
   "metadata": {},
   "outputs": [
    {
     "name": "stdout",
     "output_type": "stream",
     "text": [
      "Water setup done.\n"
     ]
    }
   ],
   "source": [
    "TCelsius=8\n",
    "Salinity=35\n",
    "Depth=500\n",
    "pH=8\n",
    "water_setup = False;\n",
    "wsimptab=np.linspace(0,0,NFR);\n",
    "worigtab=np.linspace(0,0,NFR);\n",
    "for ifr in range(NFR):\n",
    "  fr = ftab[ifr]\n",
    "  wsimptab[ifr]=water_absorption(TCelsius, Salinity, Depth, pH, fr)\n",
    "  worigtab[ifr]=AlphaWater(TCelsius, Salinity, Depth, pH, fr/1000)"
   ]
  },
  {
   "cell_type": "code",
   "execution_count": 30,
   "id": "f9f45f33-0c74-4269-b4db-7383fea47048",
   "metadata": {},
   "outputs": [
    {
     "data": {
      "image/png": "[encoded data removed]",
      "text/plain": [
       "<Figure size 600x400 with 1 Axes>"
      ]
     },
     "metadata": {},
     "output_type": "display_data"
    }
   ],
   "source": [
    "plt.figure(num=None, figsize=(6, 4), dpi=100, facecolor='w', edgecolor='k')\n",
    "plt.title('Water absorption')\n",
    "plt.xlabel('f [Hz]');\n",
    "plt.ylabel('alpha [dB/km]');\n",
    "plt.xlim(20,20000)\n",
    "plt.ylim(0.00001,10)\n",
    "plt.loglog(ftab, wsimptab, 'r--', label='approximation');\n",
    "plt.loglog(ftab, worigtab, 'g-', label='original');\n",
    "plt.legend();"
   ]
  },
  {
   "cell_type": "markdown",
   "id": "2a354f33-f4be-438e-933e-edc497ddc173",
   "metadata": {},
   "source": [
    "### Other materials"
   ]
  },
  {
   "cell_type": "code",
   "execution_count": 31,
   "id": "55010a8c-354d-45b1-b07f-42a626cf2d4a",
   "metadata": {},
   "outputs": [],
   "source": [
    "nmat = 5; #\"Smooth brickwork with flush pointing\"\n",
    "aothertab=np.linspace(0,0,NFR);\n",
    "for ifr in range(NFR):\n",
    "  fr = ftab[ifr]\n",
    "  aothertab[ifr] = AlphaOtherMaterial(fr,nmat)"
   ]
  },
  {
   "cell_type": "code",
   "execution_count": 32,
   "id": "8fe9c44b-78f4-4d94-aa08-846b63030186",
   "metadata": {},
   "outputs": [
    {
     "data": {
      "image/png": "[encoded data removed]",
      "text/plain": [
       "<Figure size 600x400 with 1 Axes>"
      ]
     },
     "metadata": {},
     "output_type": "display_data"
    }
   ],
   "source": [
    "plt.figure(num=None, figsize=(6, 4), dpi=100, facecolor='w', edgecolor='k')\n",
    "plt.title('Absorption in '+other_materials_names[nmat])\n",
    "plt.xlabel('f [Hz]');\n",
    "plt.ylabel('relative absorption');\n",
    "plt.xlim(20,20000)\n",
    "plt.ylim(0.001,1)\n",
    "plt.loglog(ftab, aothertab, 'r--', label='approximation');\n",
    "plt.loglog(frequenciesOtherMat, other_materials_ai[nmat], 'go', label='original');\n",
    "plt.legend();"
   ]
  },
  {
   "cell_type": "code",
   "execution_count": null,
   "id": "0cad58d2-2920-4ceb-b3d7-7a935326223c",
   "metadata": {},
   "outputs": [],
   "source": []
  }
 ],
 "metadata": {
  "kernelspec": {
   "display_name": "Python 3",
   "language": "python",
   "name": "python3"
  },
  "language_info": {
   "codemirror_mode": {
    "name": "ipython",
    "version": 3
   },
   "file_extension": ".py",
   "mimetype": "text/x-python",
   "name": "python",
   "nbconvert_exporter": "python",
   "pygments_lexer": "ipython3",
   "version": "3.8.6"
  }
 },
 "nbformat": 4,
 "nbformat_minor": 5
}
